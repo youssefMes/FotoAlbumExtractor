{
 "cells": [
  {
   "cell_type": "code",
   "execution_count": 23,
   "id": "774aa5e2",
   "metadata": {},
   "outputs": [],
   "source": [
    "import os\n",
    "import sys\n",
    "import cv2\n",
    "import configparser\n",
    "from matplotlib import pyplot\n",
    "from matplotlib.patches import Rectangle\n",
    "from matplotlib.patches import Circle\n",
    "import application.extractor.extract as extractor\n",
    "from IPython.display import display\n",
    "import application.detector.detect as detector\n",
    "import application.enhancer.enhance as enhancer\n",
    "import application.enhancer.mtcn_face as mtcn_face\n",
    "import ipywidgets as widgets\n",
    "from mtcnn.mtcnn import MTCNN\n",
    "from ipywidgets import Button, HBox, Checkbox, GridspecLayout, Layout\n",
    "\n"
   ]
  },
  {
   "cell_type": "code",
   "execution_count": 24,
   "id": "f62ef78d",
   "metadata": {},
   "outputs": [
    {
     "ename": "NameError",
     "evalue": "name 'Checkbox' is not defined",
     "output_type": "error",
     "traceback": [
      "\u001b[0;31m---------------------------------------------------------------------------\u001b[0m",
      "\u001b[0;31mNameError\u001b[0m                                 Traceback (most recent call last)",
      "\u001b[0;32m/var/folders/b3/h9kstt4s0r9fmlwp7mtnpntw0000gn/T/ipykernel_93862/4036098053.py\u001b[0m in \u001b[0;36m<module>\u001b[0;34m\u001b[0m\n\u001b[1;32m      7\u001b[0m )\n\u001b[1;32m      8\u001b[0m \u001b[0minformation_label\u001b[0m \u001b[0;34m=\u001b[0m \u001b[0mwidgets\u001b[0m\u001b[0;34m.\u001b[0m\u001b[0mLabel\u001b[0m\u001b[0;34m(\u001b[0m\u001b[0mvalue\u001b[0m\u001b[0;34m=\u001b[0m\u001b[0;34m\"If you have already extracted the faces once for this folder you can press 'Extract Features' right away\"\u001b[0m\u001b[0;34m)\u001b[0m\u001b[0;34m\u001b[0m\u001b[0;34m\u001b[0m\u001b[0m\n\u001b[0;32m----> 9\u001b[0;31m \u001b[0mbox\u001b[0m \u001b[0;34m=\u001b[0m \u001b[0mCheckbox\u001b[0m\u001b[0;34m(\u001b[0m\u001b[0;32mFalse\u001b[0m\u001b[0;34m,\u001b[0m \u001b[0mdescription\u001b[0m\u001b[0;34m=\u001b[0m\u001b[0;34m'MTCM Detection'\u001b[0m\u001b[0;34m)\u001b[0m\u001b[0;34m\u001b[0m\u001b[0;34m\u001b[0m\u001b[0m\n\u001b[0m\u001b[1;32m     10\u001b[0m \u001b[0mcheckBox\u001b[0m \u001b[0;34m=\u001b[0m \u001b[0mCheckbox\u001b[0m\u001b[0;34m(\u001b[0m\u001b[0;32mFalse\u001b[0m\u001b[0;34m,\u001b[0m \u001b[0mdescription\u001b[0m\u001b[0;34m=\u001b[0m\u001b[0;34m'Enhanced Detection'\u001b[0m\u001b[0;34m)\u001b[0m\u001b[0;34m\u001b[0m\u001b[0;34m\u001b[0m\u001b[0m\n\u001b[1;32m     11\u001b[0m \u001b[0mdisplay\u001b[0m\u001b[0;34m(\u001b[0m\u001b[0mimage_folder_box\u001b[0m\u001b[0;34m)\u001b[0m\u001b[0;34m\u001b[0m\u001b[0;34m\u001b[0m\u001b[0m\n",
      "\u001b[0;31mNameError\u001b[0m: name 'Checkbox' is not defined"
     ]
    }
   ],
   "source": [
    "path = './application/input/example_data/01.tif'\n",
    "image_folder_box = widgets.Text(\n",
    "    value=r'./application/input/example_data/01.tif',\n",
    "    placeholder='Type something',\n",
    "    description='Path:',\n",
    "    disabled=False\n",
    ")\n",
    "information_label = widgets.Label(value=\"If you have already extracted the faces once for this folder you can press 'Extract Features' right away\")\n",
    "box = Checkbox(False, description='MTCM Detection')\n",
    "checkBox = Checkbox(False, description='Enhanced Detection')\n",
    "display(image_folder_box)\n",
    "display(button_extract_faces)\n",
    "display(box)\n",
    "\n",
    "img = cv2.imread(image_folder_box.value, cv2.IMREAD_COLOR)\n",
    "\n",
    "button_extract_faces = Button(description=\"Extract Faces\", button_style= 'info')\n",
    "def changed(b):\n",
    "    print(b)\n",
    "def extract_faces(img, pyplot):\n",
    "    information_label.value = \"Face Extraction is in progress. Please wait.\"\n",
    "    if img is None:\n",
    "        sys.exit(\"Error no image found!\")\n",
    "\n",
    "    full_name = os.path.basename(path)\n",
    "    name = os.path.splitext(full_name)[0]\n",
    "    config = []\n",
    "    cropped_images = extractor.get_background_extracted_images(img, config)\n",
    "    enhance = True\n",
    "    face = True\n",
    "    mtcnn_face = False\n",
    "\n",
    "    for i, image in enumerate(cropped_images):\n",
    "        img = extractor.get_frame_extracted_image(image, config)\n",
    "        if enhance:\n",
    "            img = enhancer.enhance_image(img)\n",
    "        if mtcnn_face:\n",
    "            mtcnnDetector = MTCNN()\n",
    "            # detect faces in the image\n",
    "            faces = mtcnnDetector.detect_faces(img)\n",
    "            # display faces on the original image\n",
    "            pyplot = mtcn_face.draw_image_with_boxes(img, faces, name + '_' + str(i))\n",
    "            pyplot.show()\n",
    "        if face:\n",
    "            path_frontal_classifier = './application/detector/cascade/haarcascade_frontalface.xml'\n",
    "            path_profile_classifier = './application/detector/cascade/haarcascade_profileface.xml'\n",
    "            frontal_classifier = cv2.CascadeClassifier(path_frontal_classifier)\n",
    "            profile_classifier = cv2.CascadeClassifier(path_profile_classifier)\n",
    "            detector.get_detected_faces(img, frontal_classifier, profile_classifier, config, '/output', name + '_' + str(i))\n",
    "            pyplot.imshow(img)\n",
    "            pyplot.title(name)\n",
    "            pyplot.show()\n",
    "        information_label.value = \"Faces have been detected\"\n",
    "\n",
    "button_extract_faces.on_click(extract_faces(img, pyplot))\n",
    "box.observe(changed)\n",
    "checkBox.observe(changed)\n",
    "\n",
    "    "
   ]
  },
  {
   "cell_type": "code",
   "execution_count": null,
   "id": "555d6725",
   "metadata": {},
   "outputs": [],
   "source": []
  },
  {
   "cell_type": "code",
   "execution_count": null,
   "id": "e6452462",
   "metadata": {},
   "outputs": [],
   "source": []
  },
  {
   "cell_type": "code",
   "execution_count": null,
   "id": "032a7bfb",
   "metadata": {},
   "outputs": [],
   "source": []
  }
 ],
 "metadata": {
  "kernelspec": {
   "display_name": "Python 3 (ipykernel)",
   "language": "python",
   "name": "python3"
  },
  "language_info": {
   "codemirror_mode": {
    "name": "ipython",
    "version": 3
   },
   "file_extension": ".py",
   "mimetype": "text/x-python",
   "name": "python",
   "nbconvert_exporter": "python",
   "pygments_lexer": "ipython3",
   "version": "3.9.7"
  }
 },
 "nbformat": 4,
 "nbformat_minor": 5
}
