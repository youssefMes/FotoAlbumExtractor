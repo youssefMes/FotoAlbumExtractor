{
 "cells": [
  {
   "cell_type": "code",
   "execution_count": 1,
   "id": "774aa5e2",
   "metadata": {},
   "outputs": [],
   "source": [
    "import os\n",
    "import sys\n",
    "import cv2\n",
    "import configparser\n",
    "from matplotlib import pyplot\n",
    "from matplotlib.patches import Rectangle\n",
    "from matplotlib.patches import Circle\n",
    "import application.extractor.extract as extractor\n",
    "from IPython.display import display\n",
    "import application.detector.detect as detector\n",
    "import application.enhancer.enhance as enhancer\n",
    "import application.enhancer.mtcn_face as mtcn_face\n",
    "import ipywidgets as widgets\n",
    "from ipywidgets import Button, HBox, Checkbox, GridspecLayout, Layout\n",
    "from IPython.display import clear_output\n",
    "\n"
   ]
  },
  {
   "cell_type": "code",
   "execution_count": 3,
   "id": "f62ef78d",
   "metadata": {},
   "outputs": [
    {
     "data": {
      "application/vnd.jupyter.widget-view+json": {
       "model_id": "ff6eed1f3d3b4e4faf934ed75fe14673",
       "version_major": 2,
       "version_minor": 0
      },
      "text/plain": [
       "Text(value='./application/input/example_data/01.tif', description='Path:', placeholder='Type something')"
      ]
     },
     "metadata": {},
     "output_type": "display_data"
    },
    {
     "data": {
      "application/vnd.jupyter.widget-view+json": {
       "model_id": "2bb79914e7f247079fb5e5c0f8f6fb0c",
       "version_major": 2,
       "version_minor": 0
      },
      "text/plain": [
       "Button(button_style='info', description='Extract Faces', style=ButtonStyle())"
      ]
     },
     "metadata": {},
     "output_type": "display_data"
    },
    {
     "data": {
      "application/vnd.jupyter.widget-view+json": {
       "model_id": "16f73ecdf2834fcfaa8c90576ecdf6b2",
       "version_major": 2,
       "version_minor": 0
      },
      "text/plain": [
       "Checkbox(value=True, description='MTCN Detection')"
      ]
     },
     "metadata": {},
     "output_type": "display_data"
    },
    {
     "data": {
      "application/vnd.jupyter.widget-view+json": {
       "model_id": "4980c03725fa47cdb6242d11dcc55fdd",
       "version_major": 2,
       "version_minor": 0
      },
      "text/plain": [
       "Checkbox(value=False, description='Enhanced Detection')"
      ]
     },
     "metadata": {},
     "output_type": "display_data"
    },
    {
     "data": {
      "application/vnd.jupyter.widget-view+json": {
       "model_id": "bc0f4de219294b2a908fe5c42a3fa310",
       "version_major": 2,
       "version_minor": 0
      },
      "text/plain": [
       "Label(value='Select detection type and click Extact faces')"
      ]
     },
     "metadata": {},
     "output_type": "display_data"
    },
    {
     "ename": "NameError",
     "evalue": "name 'MTCNN' is not defined",
     "output_type": "error",
     "traceback": [
      "\u001b[0;31m---------------------------------------------------------------------------\u001b[0m",
      "\u001b[0;31mNameError\u001b[0m                                 Traceback (most recent call last)",
      "\u001b[0;32m/var/folders/b3/h9kstt4s0r9fmlwp7mtnpntw0000gn/T/ipykernel_95580/1843652460.py\u001b[0m in \u001b[0;36m<module>\u001b[0;34m\u001b[0m\n\u001b[1;32m     69\u001b[0m     \u001b[0mpyplot\u001b[0m\u001b[0;34m.\u001b[0m\u001b[0mshow\u001b[0m\u001b[0;34m(\u001b[0m\u001b[0;34m)\u001b[0m\u001b[0;34m\u001b[0m\u001b[0;34m\u001b[0m\u001b[0m\n\u001b[1;32m     70\u001b[0m     \u001b[0minformation_label\u001b[0m\u001b[0;34m.\u001b[0m\u001b[0mvalue\u001b[0m \u001b[0;34m=\u001b[0m \u001b[0;34m\"(\"\u001b[0m \u001b[0;34m+\u001b[0m \u001b[0mstr\u001b[0m\u001b[0;34m(\u001b[0m\u001b[0mlength\u001b[0m\u001b[0;34m)\u001b[0m \u001b[0;34m+\u001b[0m \u001b[0;34m\") Faces have been detected\"\u001b[0m\u001b[0;34m\u001b[0m\u001b[0;34m\u001b[0m\u001b[0m\n\u001b[0;32m---> 71\u001b[0;31m \u001b[0mextract_faces\u001b[0m\u001b[0;34m(\u001b[0m\u001b[0;34m)\u001b[0m\u001b[0;34m\u001b[0m\u001b[0;34m\u001b[0m\u001b[0m\n\u001b[0m\u001b[1;32m     72\u001b[0m \u001b[0mbutton_extract_faces\u001b[0m\u001b[0;34m.\u001b[0m\u001b[0mon_click\u001b[0m\u001b[0;34m(\u001b[0m\u001b[0mextract_faces\u001b[0m\u001b[0;34m)\u001b[0m\u001b[0;34m\u001b[0m\u001b[0;34m\u001b[0m\u001b[0m\n\u001b[1;32m     73\u001b[0m \u001b[0;34m\u001b[0m\u001b[0m\n",
      "\u001b[0;32m/var/folders/b3/h9kstt4s0r9fmlwp7mtnpntw0000gn/T/ipykernel_95580/1843652460.py\u001b[0m in \u001b[0;36mextract_faces\u001b[0;34m()\u001b[0m\n\u001b[1;32m     44\u001b[0m             \u001b[0mimg\u001b[0m \u001b[0;34m=\u001b[0m \u001b[0menhancer\u001b[0m\u001b[0;34m.\u001b[0m\u001b[0menhance_image\u001b[0m\u001b[0;34m(\u001b[0m\u001b[0mimg\u001b[0m\u001b[0;34m)\u001b[0m\u001b[0;34m\u001b[0m\u001b[0;34m\u001b[0m\u001b[0m\n\u001b[1;32m     45\u001b[0m         \u001b[0;32mif\u001b[0m \u001b[0mmtcnn_face\u001b[0m\u001b[0;34m:\u001b[0m\u001b[0;34m\u001b[0m\u001b[0;34m\u001b[0m\u001b[0m\n\u001b[0;32m---> 46\u001b[0;31m             \u001b[0mmtcnnDetector\u001b[0m \u001b[0;34m=\u001b[0m \u001b[0mMTCNN\u001b[0m\u001b[0;34m(\u001b[0m\u001b[0;34m)\u001b[0m\u001b[0;34m\u001b[0m\u001b[0;34m\u001b[0m\u001b[0m\n\u001b[0m\u001b[1;32m     47\u001b[0m             \u001b[0;31m# detect faces in the image\u001b[0m\u001b[0;34m\u001b[0m\u001b[0;34m\u001b[0m\u001b[0m\n\u001b[1;32m     48\u001b[0m             \u001b[0mfaces\u001b[0m \u001b[0;34m=\u001b[0m \u001b[0mmtcnnDetector\u001b[0m\u001b[0;34m.\u001b[0m\u001b[0mdetect_faces\u001b[0m\u001b[0;34m(\u001b[0m\u001b[0mimg\u001b[0m\u001b[0;34m)\u001b[0m\u001b[0;34m\u001b[0m\u001b[0;34m\u001b[0m\u001b[0m\n",
      "\u001b[0;31mNameError\u001b[0m: name 'MTCNN' is not defined"
     ]
    }
   ],
   "source": [
    "path = './application/input/example_data/01.tif'\n",
    "image_folder_box = widgets.Text(\n",
    "    value=r'./application/input/example_data/01.tif',\n",
    "    placeholder='Type something',\n",
    "    description='Path:',\n",
    "    disabled=False\n",
    ")\n",
    "information_label = widgets.Label(value=\"Select detection type and click Extact faces\")\n",
    "mtcnBox = Checkbox(True, description='MTCN Detection')\n",
    "enhancedBox = Checkbox(False, description='Enhanced Detection')\n",
    "button_extract_faces = Button(description=\"Extract Faces\", button_style= 'info')\n",
    "\n",
    "def displayButtons():\n",
    "    display(image_folder_box)\n",
    "    display(button_extract_faces)\n",
    "    display(mtcnBox)\n",
    "    display(enhancedBox)\n",
    "    display(information_label)\n",
    "    \n",
    "displayButtons()\n",
    "\n",
    "def extract_faces():\n",
    "    clear_output(wait=True)\n",
    "    displayButtons()\n",
    "    from matplotlib import pyplot\n",
    "    img = cv2.imread(image_folder_box.value, cv2.IMREAD_COLOR)\n",
    "    information_label.value = \"Face Extraction is in progress. Please wait.\"\n",
    "    if img is None:\n",
    "        sys.exit(\"Error no image found!\")\n",
    "\n",
    "    full_name = os.path.basename(path)\n",
    "    name = os.path.splitext(full_name)[0]\n",
    "    config = []\n",
    "    cropped_images = extractor.get_background_extracted_images(img, config)\n",
    "    enhance = enhancedBox.value\n",
    "    mtcnn_face = mtcnBox.value\n",
    "    standard_list = []\n",
    "    mtcn_list = []\n",
    "    length = 0\n",
    "    \n",
    "    for i, image in enumerate(cropped_images):\n",
    "        img = extractor.get_frame_extracted_image(image, config)\n",
    "        if enhance:\n",
    "            img = enhancer.enhance_image(img)\n",
    "        if mtcnn_face:\n",
    "            mtcnnDetector = MTCNN()\n",
    "            # detect faces in the image\n",
    "            faces = mtcnnDetector.detect_faces(img)\n",
    "            \n",
    "            length += len(faces)\n",
    "            # display faces on the original image\n",
    "            pyplot = mtcn_face.draw_image_with_boxes(img, faces, name + '_' + str(i))\n",
    "            pyplot.show()\n",
    "        else:\n",
    "            path_frontal_classifier = './application/detector/cascade/haarcascade_frontalface.xml'\n",
    "            path_profile_classifier = './application/detector/cascade/haarcascade_profileface.xml'\n",
    "            frontal_classifier = cv2.CascadeClassifier(path_frontal_classifier)\n",
    "            profile_classifier = cv2.CascadeClassifier(path_profile_classifier)\n",
    "            faces_count = detector.get_detected_faces(img, frontal_classifier, profile_classifier, config, '/output', name + '_' + str(i))\n",
    "            length += faces_count\n",
    "\n",
    "            #standard_list.append(faces)\n",
    "            \n",
    "            pyplot.imshow(img)\n",
    "            pyplot.title(name)\n",
    "            pyplot.show()\n",
    "            \n",
    "    \n",
    "    pyplot.show()\n",
    "    information_label.value = \"(\" + str(length) + \") Faces have been detected\"\n",
    "extract_faces()\n",
    "button_extract_faces.on_click(extract_faces)\n",
    "\n",
    "    "
   ]
  },
  {
   "cell_type": "code",
   "execution_count": null,
   "id": "555d6725",
   "metadata": {},
   "outputs": [],
   "source": []
  },
  {
   "cell_type": "code",
   "execution_count": null,
   "id": "e6452462",
   "metadata": {},
   "outputs": [],
   "source": []
  },
  {
   "cell_type": "code",
   "execution_count": null,
   "id": "032a7bfb",
   "metadata": {},
   "outputs": [],
   "source": []
  }
 ],
 "metadata": {
  "kernelspec": {
   "display_name": "Python 3 (ipykernel)",
   "language": "python",
   "name": "python3"
  },
  "language_info": {
   "codemirror_mode": {
    "name": "ipython",
    "version": 3
   },
   "file_extension": ".py",
   "mimetype": "text/x-python",
   "name": "python",
   "nbconvert_exporter": "python",
   "pygments_lexer": "ipython3",
   "version": "3.9.7"
  }
 },
 "nbformat": 4,
 "nbformat_minor": 5
}
