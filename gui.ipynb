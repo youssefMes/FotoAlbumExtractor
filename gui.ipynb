{
 "cells": [
  {
   "cell_type": "code",
   "execution_count": 3,
   "id": "774aa5e2",
   "metadata": {},
   "outputs": [],
   "source": [
    "import os\n",
    "import sys\n",
    "import cv2\n",
    "import configparser\n",
    "from matplotlib import pyplot\n",
    "from matplotlib.patches import Rectangle\n",
    "from matplotlib.patches import Circle\n",
    "import application.extractor.extract as extractor\n",
    "from IPython.display import display\n",
    "import application.detector.detect as detector\n",
    "import application.enhancer.enhance as enhancer\n",
    "import application.enhancer.mtcn_face as mtcn_face\n",
    "import ipywidgets as widgets\n",
    "from ipywidgets import Button, HBox, Checkbox, GridspecLayout, Layout, FloatSlider\n",
    "from IPython.display import clear_output\n",
    "from mtcnn.mtcnn import MTCNN\n",
    "import time"
   ]
  },
  {
   "cell_type": "code",
   "execution_count": 12,
   "id": "f62ef78d",
   "metadata": {},
   "outputs": [
    {
     "data": {
      "application/vnd.jupyter.widget-view+json": {
       "model_id": "4441c63b15044e33b35be46cff5bdc86",
       "version_major": 2,
       "version_minor": 0
      },
      "text/plain": [
       "Text(value='./application/input/A1/01.tif', description='Path:', placeholder='Type something')"
      ]
     },
     "metadata": {},
     "output_type": "display_data"
    },
    {
     "data": {
      "application/vnd.jupyter.widget-view+json": {
       "model_id": "cb71e42432494a93a68959341923bc54",
       "version_major": 2,
       "version_minor": 0
      },
      "text/plain": [
       "Button(button_style='info', description='Gesichter extrahieren', style=ButtonStyle())"
      ]
     },
     "metadata": {},
     "output_type": "display_data"
    },
    {
     "data": {
      "application/vnd.jupyter.widget-view+json": {
       "model_id": "bb0a0293016a4f009b488edbc4980849",
       "version_major": 2,
       "version_minor": 0
      },
      "text/plain": [
       "Checkbox(value=False, description='MTCNN Erkennung')"
      ]
     },
     "metadata": {},
     "output_type": "display_data"
    },
    {
     "data": {
      "application/vnd.jupyter.widget-view+json": {
       "model_id": "98920a63f3cb408da136e496a3140caf",
       "version_major": 2,
       "version_minor": 0
      },
      "text/plain": [
       "Checkbox(value=False, description='Verbesserte Erkennung')"
      ]
     },
     "metadata": {},
     "output_type": "display_data"
    },
    {
     "data": {
      "application/vnd.jupyter.widget-view+json": {
       "model_id": "f9803365c9cd4c9590b86aae8c41829a",
       "version_major": 2,
       "version_minor": 0
      },
      "text/plain": [
       "FloatSlider(value=1.5, description='Clip limit (0, 20)', layout=Layout(visibility='hidden'), max=20.0, readout…"
      ]
     },
     "metadata": {},
     "output_type": "display_data"
    },
    {
     "data": {
      "application/vnd.jupyter.widget-view+json": {
       "model_id": "d6a88e77c1484c4d99dd1b070badf5e1",
       "version_major": 2,
       "version_minor": 0
      },
      "text/plain": [
       "Label(value='Wählen Sie die Erkennungsart und klicken Sie auf Gesichter extrahieren')"
      ]
     },
     "metadata": {},
     "output_type": "display_data"
    }
   ],
   "source": [
    "cliplimitSlider = FloatSlider(value=1.5, min=0, max=20.0, step=0.1, readout_format='.1f', description='Clip limit')\n",
    "path = './application/input/A1/01.tif'\n",
    "image_folder_box = widgets.Text(\n",
    "    value=r'./application/input/A1/01.tif',\n",
    "    placeholder='Type something',\n",
    "    description='Path:',\n",
    "    disabled=False\n",
    ")\n",
    "information_label = widgets.Label(value=\"Wählen Sie die Erkennungsart und klicken Sie auf Gesichter extrahieren\")\n",
    "mtcnBox = Checkbox(False, description='MTCNN Erkennung')\n",
    "enhancedBox = Checkbox(False, description='Verbesserte Erkennung')\n",
    "button_extract_faces = Button(description=\"Gesichter extrahieren\", button_style= 'info')\n",
    "cliplimitSlider.layout.visibility  = 'hidden'\n",
    "\n",
    "\n",
    "\n",
    "\n",
    "def displayButtons():\n",
    "    display(image_folder_box)\n",
    "    display(button_extract_faces)\n",
    "    display(mtcnBox)\n",
    "    display(enhancedBox)\n",
    "    display(cliplimitSlider)\n",
    "    display(information_label)\n",
    "    \n",
    "displayButtons()\n",
    "\n",
    "def hideSlider(button):\n",
    "    if button['new']:\n",
    "        cliplimitSlider.layout.visibility  = 'visible'\n",
    "    else:\n",
    "        cliplimitSlider.layout.visibility  = 'hidden'\n",
    "       \n",
    "    \n",
    "enhancedBox.observe(hideSlider, names='value')   \n",
    "\n",
    "def extract_faces(b):\n",
    "    clear_output(wait=True)\n",
    "    displayButtons()\n",
    "    from matplotlib import pyplot\n",
    "    img = cv2.imread(image_folder_box.value, cv2.IMREAD_COLOR)\n",
    "    information_label.value = \"Die Gesichtsextraktion ist im Gange. Bitte warten Sie...\"\n",
    "    if img is None:\n",
    "        sys.exit(\"Fehler kein Bild gefunden!\")\n",
    "\n",
    "    full_name = os.path.basename(path)\n",
    "    name = os.path.splitext(full_name)[0]\n",
    "    config = []\n",
    "    cropped_images = extractor.get_background_extracted_images(img, config)\n",
    "    enhance = enhancedBox.value\n",
    "    mtcnn_face = mtcnBox.value\n",
    "    standard_list = []\n",
    "    mtcn_list = []\n",
    "    length = 0\n",
    "    \n",
    "    for i, image in enumerate(cropped_images):\n",
    "        start = time.time()\n",
    "        img = extractor.get_frame_extracted_image(image, config)\n",
    "        if enhance:\n",
    "            img = enhancer.enhance_image(img, cliplimitSlider.value)\n",
    "        if mtcnn_face:\n",
    "            mtcnnDetector = MTCNN()\n",
    "            # detect faces in the image\n",
    "            faces = mtcnnDetector.detect_faces(img)\n",
    "            \n",
    "            length += len(faces)\n",
    "            # display faces on the original image\n",
    "            pyplot = mtcn_face.draw_image_with_boxes(img, faces, name + '_' + str(i))\n",
    "            pyplot.show()\n",
    "        else:\n",
    "            path_frontal_classifier = './application/detector/cascade/haarcascade_frontalface.xml'\n",
    "            path_profile_classifier = './application/detector/cascade/haarcascade_profileface.xml'\n",
    "            frontal_classifier = cv2.CascadeClassifier(path_frontal_classifier)\n",
    "            profile_classifier = cv2.CascadeClassifier(path_profile_classifier)\n",
    "            faces_count = detector.get_detected_faces(img, frontal_classifier, profile_classifier, config, '/output', name + '_' + str(i))\n",
    "            length += faces_count\n",
    "\n",
    "            #standard_list.append(faces)\n",
    "            \n",
    "            pyplot.imshow(img)\n",
    "            pyplot.title(name)\n",
    "            pyplot.show()\n",
    "    pyplot.show()\n",
    "    end = time.time()\n",
    "    print(\"Bearbeitungsdauer: \", round(end - start, 2))\n",
    "    information_label.value = \"(\" + str(length) + \") Gesichter wurden erkannt\"\n",
    "button_extract_faces.on_click(extract_faces)\n",
    "\n",
    "    "
   ]
  },
  {
   "cell_type": "code",
   "execution_count": null,
   "id": "555d6725",
   "metadata": {},
   "outputs": [],
   "source": []
  },
  {
   "cell_type": "code",
   "execution_count": null,
   "id": "e6452462",
   "metadata": {},
   "outputs": [],
   "source": []
  },
  {
   "cell_type": "code",
   "execution_count": null,
   "id": "032a7bfb",
   "metadata": {},
   "outputs": [],
   "source": []
  }
 ],
 "metadata": {
  "kernelspec": {
   "display_name": "Python 3 (ipykernel)",
   "language": "python",
   "name": "python3"
  },
  "language_info": {
   "codemirror_mode": {
    "name": "ipython",
    "version": 3
   },
   "file_extension": ".py",
   "mimetype": "text/x-python",
   "name": "python",
   "nbconvert_exporter": "python",
   "pygments_lexer": "ipython3",
   "version": "3.9.4"
  }
 },
 "nbformat": 4,
 "nbformat_minor": 5
}
