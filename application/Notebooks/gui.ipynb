{
 "cells": [
  {
   "cell_type": "code",
   "execution_count": 12,
   "id": "774aa5e2",
   "metadata": {},
   "outputs": [
    {
     "ename": "AttributeError",
     "evalue": "module 'application.extractor' has no attribute 'extractor'",
     "output_type": "error",
     "traceback": [
      "\u001b[0;31m---------------------------------------------------------------------------\u001b[0m",
      "\u001b[0;31mAttributeError\u001b[0m                            Traceback (most recent call last)",
      "\u001b[0;32m/var/folders/b3/h9kstt4s0r9fmlwp7mtnpntw0000gn/T/ipykernel_91999/1633985376.py\u001b[0m in \u001b[0;36m<module>\u001b[0;34m\u001b[0m\n\u001b[1;32m      6\u001b[0m \u001b[0;32mfrom\u001b[0m \u001b[0mmatplotlib\u001b[0m\u001b[0;34m.\u001b[0m\u001b[0mpatches\u001b[0m \u001b[0;32mimport\u001b[0m \u001b[0mCircle\u001b[0m\u001b[0;34m\u001b[0m\u001b[0;34m\u001b[0m\u001b[0m\n\u001b[1;32m      7\u001b[0m \u001b[0;32mimport\u001b[0m \u001b[0mapplication\u001b[0m\u001b[0;34m.\u001b[0m\u001b[0mextractor\u001b[0m \u001b[0;32mas\u001b[0m \u001b[0mextractor\u001b[0m\u001b[0;34m\u001b[0m\u001b[0;34m\u001b[0m\u001b[0m\n\u001b[0;32m----> 8\u001b[0;31m \u001b[0mprint\u001b[0m\u001b[0;34m(\u001b[0m\u001b[0mextractor\u001b[0m\u001b[0;34m.\u001b[0m\u001b[0mextractor\u001b[0m\u001b[0;34m)\u001b[0m\u001b[0;34m\u001b[0m\u001b[0;34m\u001b[0m\u001b[0m\n\u001b[0m\u001b[1;32m      9\u001b[0m \u001b[0;32mfrom\u001b[0m \u001b[0mIPython\u001b[0m\u001b[0;34m.\u001b[0m\u001b[0mdisplay\u001b[0m \u001b[0;32mimport\u001b[0m \u001b[0mdisplay\u001b[0m\u001b[0;34m\u001b[0m\u001b[0;34m\u001b[0m\u001b[0m\n\u001b[1;32m     10\u001b[0m \u001b[0;31m#import detector.detect as detector\u001b[0m\u001b[0;34m\u001b[0m\u001b[0;34m\u001b[0m\u001b[0m\n",
      "\u001b[0;31mAttributeError\u001b[0m: module 'application.extractor' has no attribute 'extractor'"
     ]
    }
   ],
   "source": [
    "import os\n",
    "import sys\n",
    "import cv2\n",
    "from matplotlib import pyplot\n",
    "from matplotlib.patches import Rectangle\n",
    "from matplotlib.patches import Circle\n",
    "import application.extractor as extractor\n",
    "print(extractor.extractor)\n",
    "from IPython.display import display\n",
    "#import detector.detect as detector\n",
    "#import enhancer.enhance as enhancer\n",
    "#import enhancer.mtcn_face as mtcn_face\n",
    "import ipywidgets as widgets\n"
   ]
  },
  {
   "cell_type": "code",
   "execution_count": 9,
   "id": "f62ef78d",
   "metadata": {},
   "outputs": [
    {
     "ename": "AttributeError",
     "evalue": "module 'application.extractor' has no attribute 'extract'",
     "output_type": "error",
     "traceback": [
      "\u001b[0;31m---------------------------------------------------------------------------\u001b[0m",
      "\u001b[0;31mAttributeError\u001b[0m                            Traceback (most recent call last)",
      "\u001b[0;32m/var/folders/b3/h9kstt4s0r9fmlwp7mtnpntw0000gn/T/ipykernel_91999/3213382420.py\u001b[0m in \u001b[0;36m<module>\u001b[0;34m\u001b[0m\n\u001b[1;32m     19\u001b[0m \u001b[0mname\u001b[0m \u001b[0;34m=\u001b[0m \u001b[0mos\u001b[0m\u001b[0;34m.\u001b[0m\u001b[0mpath\u001b[0m\u001b[0;34m.\u001b[0m\u001b[0msplitext\u001b[0m\u001b[0;34m(\u001b[0m\u001b[0mfull_name\u001b[0m\u001b[0;34m)\u001b[0m\u001b[0;34m[\u001b[0m\u001b[0;36m0\u001b[0m\u001b[0;34m]\u001b[0m\u001b[0;34m\u001b[0m\u001b[0;34m\u001b[0m\u001b[0m\n\u001b[1;32m     20\u001b[0m \u001b[0;34m\u001b[0m\u001b[0m\n\u001b[0;32m---> 21\u001b[0;31m \u001b[0mcropped_images\u001b[0m \u001b[0;34m=\u001b[0m \u001b[0mextractor\u001b[0m\u001b[0;34m.\u001b[0m\u001b[0mextract\u001b[0m\u001b[0;34m.\u001b[0m\u001b[0mget_background_extracted_images\u001b[0m\u001b[0;34m(\u001b[0m\u001b[0mimg\u001b[0m\u001b[0;34m,\u001b[0m \u001b[0mconfig\u001b[0m\u001b[0;34m)\u001b[0m\u001b[0;34m\u001b[0m\u001b[0;34m\u001b[0m\u001b[0m\n\u001b[0m\u001b[1;32m     22\u001b[0m \u001b[0;34m\u001b[0m\u001b[0m\n\u001b[1;32m     23\u001b[0m \u001b[0;32mfor\u001b[0m \u001b[0mi\u001b[0m\u001b[0;34m,\u001b[0m \u001b[0mimage\u001b[0m \u001b[0;32min\u001b[0m \u001b[0menumerate\u001b[0m\u001b[0;34m(\u001b[0m\u001b[0mcropped_images\u001b[0m\u001b[0;34m)\u001b[0m\u001b[0;34m:\u001b[0m\u001b[0;34m\u001b[0m\u001b[0;34m\u001b[0m\u001b[0m\n",
      "\u001b[0;31mAttributeError\u001b[0m: module 'application.extractor' has no attribute 'extract'"
     ]
    }
   ],
   "source": [
    "radio = widgets.RadioButtons(\n",
    "    options=['Scanned Album', 'Image(s)'],\n",
    "    description='Mode:',\n",
    "    disabled=False\n",
    ")\n",
    "path = '/Users/youssefmestiri/Sites/FotoAlbumExtractor/application/input/example_data/01.tif'\n",
    "image_folder_box = widgets.Text(\n",
    "    value=r'/Users/youssefmestiri/Sites/FotoAlbumExtractor/application/input/example_data/01.tif',\n",
    "    placeholder='Type something',\n",
    "    description='Path:',\n",
    "    disabled=False\n",
    ")\n",
    "img = cv2.imread(image_folder_box.value, cv2.IMREAD_COLOR)\n",
    "\n",
    "if img is None:\n",
    "    sys.exit(\"Error no image found!\")\n",
    "\n",
    "full_name = os.path.basename(path)\n",
    "name = os.path.splitext(full_name)[0]\n",
    "\n",
    "cropped_images = extractor.extract.get_background_extracted_images(img, config)\n",
    "\n",
    "for i, image in enumerate(cropped_images):\n",
    "\n",
    "    img = extractor.get_frame_extracted_image(image, config)\n",
    "    if args.enhance:\n",
    "        print('enhance true')\n",
    "        img = enhancer.enhance_image(img)\n",
    "    if args.face:\n",
    "\n",
    "        #detector.get_detected_faces(img, frontal_classifier, profile_classifier, config, args.result, name + '_' + str(i))\n",
    "        mtcnnDetector = MTCNN()\n",
    "        # detect faces in the image\n",
    "        faces = mtcnnDetector.detect_faces(img)\n",
    "        # display faces on the original image\n",
    "        pyplot = mtcn_face.draw_image_with_boxes(img, faces, name + '_' + str(i))\n",
    "    if not os.path.exists(args.result):\n",
    "        os.makedirs(args.result)\n",
    "\n",
    "    #pyplot.savefig(args.result + '/' + name + '_' + str(i) + '.png', bbox_inches = 'tight', facecolor='white')\n",
    "    # show the plot\n",
    "    pyplot.show()\n",
    "\n",
    "    #cv2.imwrite(args.result + '/' + name + '_' + str(i) + '.png', img)\n",
    "        \n",
    "display(image_folder_box)"
   ]
  },
  {
   "cell_type": "code",
   "execution_count": null,
   "id": "a983470d",
   "metadata": {},
   "outputs": [],
   "source": []
  },
  {
   "cell_type": "code",
   "execution_count": null,
   "id": "c64c543e",
   "metadata": {},
   "outputs": [],
   "source": []
  }
 ],
 "metadata": {
  "kernelspec": {
   "display_name": "Python 3 (ipykernel)",
   "language": "python",
   "name": "python3"
  },
  "language_info": {
   "codemirror_mode": {
    "name": "ipython",
    "version": 3
   },
   "file_extension": ".py",
   "mimetype": "text/x-python",
   "name": "python",
   "nbconvert_exporter": "python",
   "pygments_lexer": "ipython3",
   "version": "3.9.7"
  }
 },
 "nbformat": 4,
 "nbformat_minor": 5
}
